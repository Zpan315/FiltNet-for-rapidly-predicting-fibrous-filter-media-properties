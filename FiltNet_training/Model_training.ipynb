{
 "cells": [
  {
   "cell_type": "code",
   "execution_count": null,
   "id": "capital-adjustment",
   "metadata": {},
   "outputs": [],
   "source": [
    "import FiltNet as FN\n",
    "\n",
    "base_dir = 'FiltNet-for-rapidly-predicting-fibrous-filter-media-properties' #Change this to the base directory of the project\n",
    "Data = f'{base_dir}/HDF/FiltNet_1000d.h5'\n",
    "img_ID = int(40)\n",
    "#List = FN.load_list('HDF/List/list_40_10066d.h5')\n",
    "List=FN.prep(Data,img_ID)\n",
    "\n",
    "TrainList, EvalList, TestList = FN.splitdata(List)\n",
    "\n",
    "model=FN.trainmodel(Data,TrainList,EvalList,retrain=1,fine_tuning=1,epochs=100,batch_size=50,epochs_2 = 10,ModelType=img_ID)\n",
    "\n",
    "model.summary()\n",
    "\n",
    "FN.testmodel(model,Data,TestList,ModelType=img_ID)"
   ]
  }
 ],
 "metadata": {
  "kernelspec": {
   "display_name": "my_tensorflow_gpu3",
   "language": "python",
   "name": "my_tensorflow_gpu3"
  },
  "language_info": {
   "codemirror_mode": {
    "name": "ipython",
    "version": 3
   },
   "file_extension": ".py",
   "mimetype": "text/x-python",
   "name": "python",
   "nbconvert_exporter": "python",
   "pygments_lexer": "ipython3",
   "version": "3.9.18"
  }
 },
 "nbformat": 4,
 "nbformat_minor": 5
}
